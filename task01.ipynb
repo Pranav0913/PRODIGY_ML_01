{
 "cells": [
  {
   "cell_type": "markdown",
   "id": "85146bbc-c6e2-4a0c-8c74-2d42e1d890f4",
   "metadata": {},
   "source": [
    "# Implement a linear regression model to predict the prices of houses based on their square footage and the number of bedrooms and bathrooms."
   ]
  },
  {
   "cell_type": "code",
   "execution_count": 3,
   "id": "2b876a13-8f64-474d-95af-78a5768c6866",
   "metadata": {},
   "outputs": [
    {
     "data": {
      "text/plain": [
       "(4421807817.566748, 0.42351763169818046)"
      ]
     },
     "execution_count": 3,
     "metadata": {},
     "output_type": "execute_result"
    }
   ],
   "source": [
    "from sklearn.model_selection import train_test_split\n",
    "from sklearn.linear_model import LinearRegression\n",
    "from sklearn.metrics import mean_squared_error, r2_score\n",
    "import pandas as pd\n",
    "\n",
    "# Load dataset\n",
    "train_data = pd.read_csv(\"train.csv\")\n",
    "\n",
    "\n",
    "# Select relevant features and target variable\n",
    "features = ['LotArea', 'BedroomAbvGr', 'FullBath', 'HalfBath']\n",
    "target = 'SalePrice'\n",
    "\n",
    "# Prepare the dataset by extracting relevant columns\n",
    "house_data = train_data[features + [target]].dropna()\n",
    "\n",
    "# Combine FullBath and HalfBath into TotalBath\n",
    "house_data['TotalBath'] = house_data['FullBath'] + 0.5 * house_data['HalfBath']\n",
    "house_data = house_data.drop(columns=['FullBath', 'HalfBath'])\n",
    "\n",
    "# Split the data into features (X) and target (y)\n",
    "X = house_data[['LotArea', 'BedroomAbvGr', 'TotalBath']]\n",
    "y = house_data[target]\n",
    "\n",
    "# Split into training and testing sets\n",
    "X_train, X_test, y_train, y_test = train_test_split(X, y, test_size=0.2, random_state=42)\n",
    "\n",
    "# Train a linear regression model\n",
    "model = LinearRegression()\n",
    "model.fit(X_train, y_train)\n",
    "\n",
    "# Make predictions on the test set\n",
    "y_pred = model.predict(X_test)\n",
    "\n",
    "# Evaluate the model\n",
    "mse = mean_squared_error(y_test, y_pred)\n",
    "r2 = r2_score(y_test, y_pred)\n",
    "\n",
    "mse, r2"
   ]
  },
  {
   "cell_type": "code",
   "execution_count": null,
   "id": "b929a55d-d317-49ef-b854-2d8c4a50eb0f",
   "metadata": {},
   "outputs": [],
   "source": []
  }
 ],
 "metadata": {
  "kernelspec": {
   "display_name": "Python 3 (ipykernel)",
   "language": "python",
   "name": "python3"
  },
  "language_info": {
   "codemirror_mode": {
    "name": "ipython",
    "version": 3
   },
   "file_extension": ".py",
   "mimetype": "text/x-python",
   "name": "python",
   "nbconvert_exporter": "python",
   "pygments_lexer": "ipython3",
   "version": "3.12.4"
  }
 },
 "nbformat": 4,
 "nbformat_minor": 5
}
